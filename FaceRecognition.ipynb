{
  "nbformat": 4,
  "nbformat_minor": 0,
  "metadata": {
    "colab": {
      "name": "FaceRecognition.ipynb",
      "version": "0.3.2",
      "provenance": [],
      "collapsed_sections": []
    },
    "kernelspec": {
      "name": "python3",
      "display_name": "Python 3"
    },
    "accelerator": "GPU"
  },
  "cells": [
    {
      "cell_type": "code",
      "metadata": {
        "id": "8qrmomy9nDdC",
        "colab_type": "code",
        "outputId": "c30c922f-d173-4514-cb71-6e7fe4e0fefd",
        "colab": {
          "resources": {
            "http://localhost:8080/nbextensions/google.colab/files.js": {
              "data": "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",
              "ok": true,
              "headers": [
                [
                  "content-type",
                  "application/javascript"
                ]
              ],
              "status": 200,
              "status_text": ""
            }
          },
          "base_uri": "https://localhost:8080/",
          "height": 74
        }
      },
      "source": [
        "from google.colab import files\n",
        "uploadedFile = files.upload()"
      ],
      "execution_count": 8,
      "outputs": [
        {
          "output_type": "display_data",
          "data": {
            "text/html": [
              "\n",
              "     <input type=\"file\" id=\"files-3b922c38-e0c6-42fc-9136-ee44f1936903\" name=\"files[]\" multiple disabled />\n",
              "     <output id=\"result-3b922c38-e0c6-42fc-9136-ee44f1936903\">\n",
              "      Upload widget is only available when the cell has been executed in the\n",
              "      current browser session. Please rerun this cell to enable.\n",
              "      </output>\n",
              "      <script src=\"/nbextensions/google.colab/files.js\"></script> "
            ],
            "text/plain": [
              "<IPython.core.display.HTML object>"
            ]
          },
          "metadata": {
            "tags": []
          }
        },
        {
          "output_type": "stream",
          "text": [
            "Saving Face_Recognition.json to Face_Recognition.json\n"
          ],
          "name": "stdout"
        }
      ]
    },
    {
      "cell_type": "code",
      "metadata": {
        "id": "VDBy7ScqnPM3",
        "colab_type": "code",
        "colab": {}
      },
      "source": [
        "import pandas as pd\n",
        "import numpy as np\n",
        "import cv2\n",
        "import urllib.request\n",
        "import io\n",
        "import os,sys\n",
        "from PIL import Image\n",
        "from google.colab.patches import cv2_imshow\n",
        "from sklearn.model_selection import train_test_split\n",
        "from sklearn.preprocessing import MultiLabelBinarizer\n",
        "from keras.models import Sequential\n",
        "from keras.layers import Dense\n",
        "from keras import backend as K\n",
        "K.set_image_dim_ordering('tf') \n",
        "from keras.layers.convolutional import Conv2D\n",
        "from keras.layers.convolutional import MaxPooling2D\n",
        "from keras.layers import Flatten\n",
        "import dlib\n",
        "import random\n",
        "import csv\n",
        "import pickle"
      ],
      "execution_count": 0,
      "outputs": []
    },
    {
      "cell_type": "code",
      "metadata": {
        "id": "wg76aT8bnd-J",
        "colab_type": "code",
        "colab": {}
      },
      "source": [
        "\n",
        "data = pd.read_json('Face_Recognition.json',lines = True)\n",
        "\n",
        "face_data = open('Face_Recog.csv', 'w')\n",
        "csvwriter = csv.writer(face_data)\n",
        "csvwriter.writerow(['Content', 'Features','Coords'])\n",
        "\n",
        "for num in range(len(data)):\n",
        "  URL = data[\"content\"][num]\n",
        "  for value in data['annotation'][num]:\n",
        "    if ( len(value['label']) < 4 or value['label'][0] == 'Not_Face' ):\n",
        "      continue\n",
        "    a = value['label'][0].split('_')[-1].strip()\n",
        "    b = value['label'][1].split('_')[-1].strip()\n",
        "    c = value['label'][2].split('_')[-1].strip()\n",
        "    d = value['label'][3].split('_')[-1].strip()\n",
        "    startX = int(round(value['points'][0]['x'] * value['imageWidth']))\n",
        "    startY = int(round(value['points'][0]['y'] * value['imageHeight']))\n",
        "    endX = int(round(value['points'][1]['x'] * value['imageWidth']))\n",
        "    endY = int(round(value['points'][1]['y'] * value['imageHeight']))\n",
        "    csvwriter.writerow((URL,str(a+\" \"+b+\" \"+c+\" \"+d),(startX,startY,endX,endY)))\n",
        "    \n",
        "face_data.close()"
      ],
      "execution_count": 0,
      "outputs": []
    },
    {
      "cell_type": "code",
      "metadata": {
        "id": "5MzVuZUNrQko",
        "colab_type": "code",
        "colab": {}
      },
      "source": [
        "\n",
        "csvdata = pd.read_csv('Face_Recog.csv')\n",
        "\n",
        "with open('Face_Recog.csv', 'r') as f:\n",
        "    reader = csv.reader(f)\n",
        "\n",
        "    tempNP = []\n",
        "    for row in reader:\n",
        "        if row[0] != 'Content':\n",
        "          URL = row[0]\n",
        "          coords = row[2]\n",
        "          coords = coords[1:-1].split(\",\")\n",
        "          x1 = int(coords[0])\n",
        "          y1 = int(coords[1])\n",
        "          x2 = int(coords[2])\n",
        "          y2 = int(coords[3])\n",
        "          with urllib.request.urlopen(URL) as url:\n",
        "            f = io.BytesIO(url.read())\n",
        "          pil_image = Image.open(f).convert('RGB')\n",
        "          cv2_image = cv2.cvtColor(np.array(pil_image), cv2.COLOR_RGB2BGR)\n",
        "          roi = cv2_image[y1:y2,x1:x2]\n",
        "          npImage = np.array(roi,'float32')\n",
        "          npImage /= 255\n",
        "          npImage = cv2.resize(npImage,(48,48))\n",
        "          tempNP.append(npImage)"
      ],
      "execution_count": 0,
      "outputs": []
    },
    {
      "cell_type": "code",
      "metadata": {
        "id": "go8PzcoenhwX",
        "colab_type": "code",
        "outputId": "da2867ce-2ad6-4414-a696-dceeab0b9dc9",
        "colab": {
          "base_uri": "https://localhost:8080/",
          "height": 34
        }
      },
      "source": [
        "images = np.array(tempNP)\n",
        "images.shape"
      ],
      "execution_count": 12,
      "outputs": [
        {
          "output_type": "execute_result",
          "data": {
            "text/plain": [
              "(198, 48, 48, 3)"
            ]
          },
          "metadata": {
            "tags": []
          },
          "execution_count": 12
        }
      ]
    },
    {
      "cell_type": "code",
      "metadata": {
        "id": "4ttSAS5kn7J1",
        "colab_type": "code",
        "colab": {}
      },
      "source": [
        "Y = []\n",
        "features = csvdata.drop(['Content','Coords'],axis=1)\n",
        "features = np.array(features)\n",
        "for i in range(len(features)):\n",
        "  Y.append(features[i][0].split())"
      ],
      "execution_count": 0,
      "outputs": []
    },
    {
      "cell_type": "code",
      "metadata": {
        "id": "Sk6OK71C_v4m",
        "colab_type": "code",
        "colab": {}
      },
      "source": [
        "one_hot = MultiLabelBinarizer()\n",
        "labels = one_hot.fit_transform(Y)"
      ],
      "execution_count": 0,
      "outputs": []
    },
    {
      "cell_type": "code",
      "metadata": {
        "id": "VZdTVExcofiF",
        "colab_type": "code",
        "colab": {}
      },
      "source": [
        "xtrain, xtest, ytrain, ytest = train_test_split(images, labels, random_state=42, test_size=0.2)"
      ],
      "execution_count": 0,
      "outputs": []
    },
    {
      "cell_type": "code",
      "metadata": {
        "id": "a_fcPLre-3ay",
        "colab_type": "code",
        "colab": {}
      },
      "source": [
        "model = Sequential()\n",
        "model.add(Conv2D(32, kernel_size=(3, 3), activation=\"relu\", input_shape=(48,48,3)))\n",
        "model.add(MaxPooling2D(pool_size=(2, 2)))\n",
        "\n",
        "model.add(Conv2D(filters=64, kernel_size=(3, 3), activation='relu'))\n",
        "model.add(MaxPooling2D(pool_size=(2, 2)))\n",
        "\n",
        "model.add(Conv2D(filters=128, kernel_size=(3, 3), activation='relu'))\n",
        "model.add(Conv2D(filters=64, kernel_size=(1, 1), activation='relu'))\n",
        "model.add(Conv2D(filters=128, kernel_size=(3, 3), activation='relu'))\n",
        "model.add(MaxPooling2D(pool_size=(2, 2)))\n",
        "\n",
        "model.add(Flatten())\n",
        "model.add(Dense(16, activation='sigmoid'))"
      ],
      "execution_count": 0,
      "outputs": []
    },
    {
      "cell_type": "code",
      "metadata": {
        "id": "BP0bz_8eIjTG",
        "colab_type": "code",
        "outputId": "a03fff0f-6fdb-4c7c-87e9-c550ed26b616",
        "colab": {
          "base_uri": "https://localhost:8080/",
          "height": 476
        }
      },
      "source": [
        "model.summary()"
      ],
      "execution_count": 17,
      "outputs": [
        {
          "output_type": "stream",
          "text": [
            "_________________________________________________________________\n",
            "Layer (type)                 Output Shape              Param #   \n",
            "=================================================================\n",
            "conv2d_1 (Conv2D)            (None, 46, 46, 32)        896       \n",
            "_________________________________________________________________\n",
            "max_pooling2d_1 (MaxPooling2 (None, 23, 23, 32)        0         \n",
            "_________________________________________________________________\n",
            "conv2d_2 (Conv2D)            (None, 21, 21, 64)        18496     \n",
            "_________________________________________________________________\n",
            "max_pooling2d_2 (MaxPooling2 (None, 10, 10, 64)        0         \n",
            "_________________________________________________________________\n",
            "conv2d_3 (Conv2D)            (None, 8, 8, 128)         73856     \n",
            "_________________________________________________________________\n",
            "conv2d_4 (Conv2D)            (None, 8, 8, 64)          8256      \n",
            "_________________________________________________________________\n",
            "conv2d_5 (Conv2D)            (None, 6, 6, 128)         73856     \n",
            "_________________________________________________________________\n",
            "max_pooling2d_3 (MaxPooling2 (None, 3, 3, 128)         0         \n",
            "_________________________________________________________________\n",
            "flatten_1 (Flatten)          (None, 1152)              0         \n",
            "_________________________________________________________________\n",
            "dense_1 (Dense)              (None, 16)                18448     \n",
            "=================================================================\n",
            "Total params: 193,808\n",
            "Trainable params: 193,808\n",
            "Non-trainable params: 0\n",
            "_________________________________________________________________\n"
          ],
          "name": "stdout"
        }
      ]
    },
    {
      "cell_type": "code",
      "metadata": {
        "id": "oaM-OGwf_OGk",
        "colab_type": "code",
        "outputId": "621d04e3-e617-4bdd-efb7-73a0c7d954e1",
        "colab": {
          "base_uri": "https://localhost:8080/",
          "height": 785
        }
      },
      "source": [
        "model.compile(loss='binary_crossentropy',optimizer='adam', metrics=['accuracy'])\n",
        "model.fit(xtrain, ytrain, validation_data=(xtest, ytest), nb_epoch=20, batch_size=4)"
      ],
      "execution_count": 32,
      "outputs": [
        {
          "output_type": "stream",
          "text": [
            "/usr/local/lib/python3.6/dist-packages/ipykernel_launcher.py:2: UserWarning: The `nb_epoch` argument in `fit` has been renamed `epochs`.\n",
            "  \n"
          ],
          "name": "stderr"
        },
        {
          "output_type": "stream",
          "text": [
            "Train on 158 samples, validate on 40 samples\n",
            "Epoch 1/20\n",
            "158/158 [==============================] - 1s 8ms/step - loss: 0.5086 - acc: 0.7389 - val_loss: 0.4460 - val_acc: 0.7797\n",
            "Epoch 2/20\n",
            "158/158 [==============================] - 0s 2ms/step - loss: 0.4615 - acc: 0.7603 - val_loss: 0.4447 - val_acc: 0.7875\n",
            "Epoch 3/20\n",
            "158/158 [==============================] - 0s 2ms/step - loss: 0.4583 - acc: 0.7690 - val_loss: 0.4263 - val_acc: 0.7875\n",
            "Epoch 4/20\n",
            "158/158 [==============================] - 0s 2ms/step - loss: 0.4584 - acc: 0.7678 - val_loss: 0.4374 - val_acc: 0.7922\n",
            "Epoch 5/20\n",
            "158/158 [==============================] - 0s 2ms/step - loss: 0.4540 - acc: 0.7650 - val_loss: 0.4271 - val_acc: 0.7875\n",
            "Epoch 6/20\n",
            "158/158 [==============================] - 0s 2ms/step - loss: 0.4484 - acc: 0.7714 - val_loss: 0.4320 - val_acc: 0.7703\n",
            "Epoch 7/20\n",
            "158/158 [==============================] - 0s 2ms/step - loss: 0.4417 - acc: 0.7848 - val_loss: 0.4437 - val_acc: 0.7625\n",
            "Epoch 8/20\n",
            "158/158 [==============================] - 0s 2ms/step - loss: 0.4311 - acc: 0.7943 - val_loss: 0.4330 - val_acc: 0.7828\n",
            "Epoch 9/20\n",
            "158/158 [==============================] - 0s 3ms/step - loss: 0.4283 - acc: 0.7971 - val_loss: 0.4600 - val_acc: 0.7656\n",
            "Epoch 10/20\n",
            "158/158 [==============================] - 0s 2ms/step - loss: 0.4124 - acc: 0.8097 - val_loss: 0.4622 - val_acc: 0.7703\n",
            "Epoch 11/20\n",
            "158/158 [==============================] - 0s 2ms/step - loss: 0.4055 - acc: 0.8113 - val_loss: 0.5111 - val_acc: 0.7672\n",
            "Epoch 12/20\n",
            "158/158 [==============================] - 0s 3ms/step - loss: 0.3964 - acc: 0.8141 - val_loss: 0.4696 - val_acc: 0.7859\n",
            "Epoch 13/20\n",
            "158/158 [==============================] - 0s 2ms/step - loss: 0.3751 - acc: 0.8188 - val_loss: 0.4833 - val_acc: 0.7797\n",
            "Epoch 14/20\n",
            "158/158 [==============================] - 0s 2ms/step - loss: 0.3700 - acc: 0.8259 - val_loss: 0.4933 - val_acc: 0.7844\n",
            "Epoch 15/20\n",
            "158/158 [==============================] - 0s 2ms/step - loss: 0.3502 - acc: 0.8315 - val_loss: 0.5491 - val_acc: 0.7828\n",
            "Epoch 16/20\n",
            "158/158 [==============================] - 0s 3ms/step - loss: 0.3251 - acc: 0.8438 - val_loss: 0.5692 - val_acc: 0.7734\n",
            "Epoch 17/20\n",
            "158/158 [==============================] - 0s 2ms/step - loss: 0.3022 - acc: 0.8635 - val_loss: 0.6268 - val_acc: 0.7656\n",
            "Epoch 18/20\n",
            "158/158 [==============================] - 0s 2ms/step - loss: 0.2874 - acc: 0.8655 - val_loss: 0.6130 - val_acc: 0.7875\n",
            "Epoch 19/20\n",
            "158/158 [==============================] - 0s 2ms/step - loss: 0.2470 - acc: 0.8928 - val_loss: 0.7184 - val_acc: 0.7688\n",
            "Epoch 20/20\n",
            "158/158 [==============================] - 0s 2ms/step - loss: 0.2277 - acc: 0.9003 - val_loss: 0.7133 - val_acc: 0.7719\n"
          ],
          "name": "stdout"
        },
        {
          "output_type": "execute_result",
          "data": {
            "text/plain": [
              "<keras.callbacks.History at 0x7f775ba0b3c8>"
            ]
          },
          "metadata": {
            "tags": []
          },
          "execution_count": 32
        }
      ]
    },
    {
      "cell_type": "code",
      "metadata": {
        "id": "UT2VODMEZKz4",
        "colab_type": "code",
        "colab": {}
      },
      "source": [
        "pickle.dump(model, open('facedata.sav', 'wb'))"
      ],
      "execution_count": 0,
      "outputs": []
    },
    {
      "cell_type": "code",
      "metadata": {
        "id": "tPbaAq2RK25N",
        "colab_type": "code",
        "colab": {}
      },
      "source": [
        "IMAGE_NAME = 'image.jpeg'\n",
        "image = cv2.imread(IMAGE_NAME)\n",
        "inputs = []\n",
        "\n",
        "if image is None:\n",
        "    print(\"ERROR: No input image given.\")\n",
        "    exit()\n",
        "\n",
        "try:\n",
        "  cnn_face_detector = dlib.cnn_face_detection_model_v1('mmod_human_face_detector.dat')\n",
        "except:\n",
        "  print('Face detector module not found.')\n",
        "\n",
        "faces_cnn = cnn_face_detector(image, 1)\n",
        "if (len(faces_cnn)) < 1:\n",
        "  print('No faces found in the image')\n",
        "else:\n",
        "  for face in faces_cnn:\n",
        "      x = face.rect.left()\n",
        "      x = int(x - (0.1 * x))\n",
        "      y = face.rect.top()\n",
        "      y = int(y - (0.15 * y))\n",
        "      x2 = face.rect.right()\n",
        "      x2 = int(x2 + (0.1 * x2))\n",
        "      y2 = face.rect.bottom()\n",
        "      y2 = int(y2 + (0.1 * y2))\n",
        "      roi = image[y:y2,x:x2]\n",
        "      inputs.append(roi)"
      ],
      "execution_count": 0,
      "outputs": []
    },
    {
      "cell_type": "code",
      "metadata": {
        "id": "Y-QhWUwNLCMi",
        "colab_type": "code",
        "outputId": "90ee2c28-b5a5-40cb-dd8a-cc3b8e3163c2",
        "colab": {
          "base_uri": "https://localhost:8080/",
          "height": 153
        }
      },
      "source": [
        "age = ['below20','30','40','50'] ; ageprob = ['','','','']\n",
        "gender = ['Male','Female'] ; genderprob = ['','']\n",
        "emotion = ['Angry','Happy','Sad','Neutral'] ; emotionprob = ['','','','']\n",
        "ethincity = ['Black','White','Asian','Indian','Hispanic'] ; ethincityprob = ['','','','','']\n",
        " \n",
        "for img in inputs:\n",
        "    img = np.array(img,'float32')\n",
        "    img /= 255\n",
        "    img = cv2.resize(img,(48,48))\n",
        "    classes = np.array(one_hot.classes_)\n",
        "    probability = model.predict(img.reshape(1,48,48,3))[0]\n",
        "    for i in range(16):\n",
        "      if classes[i] in age:\n",
        "        ageprob[age.index(classes[i])] = probability[i]\n",
        "      if classes[i] in gender:\n",
        "        genderprob[gender.index(classes[i])] = probability[i]\n",
        "      if classes[i] in emotion:\n",
        "        emotionprob[emotion.index(classes[i])] = probability[i]\n",
        "      if classes[i] in ethincity:\n",
        "        ethincityprob[ethincity.index(classes[i])] = probability[i]\n",
        "    print(age[ageprob.index(max(ageprob))])\n",
        "    print(gender[genderprob.index(max(genderprob))])\n",
        "    print(emotion[emotionprob.index(max(emotionprob))])\n",
        "    print(ethincity[ethincityprob.index(max(ethincityprob))])\n",
        "    print('---------------------------------------------')\n",
        "\n",
        "    "
      ],
      "execution_count": 34,
      "outputs": [
        {
          "output_type": "stream",
          "text": [
            "40\n",
            "Male\n",
            "Neutral\n",
            "Black\n",
            "30\n",
            "Female\n",
            "Neutral\n",
            "White\n"
          ],
          "name": "stdout"
        }
      ]
    }
  ]
}